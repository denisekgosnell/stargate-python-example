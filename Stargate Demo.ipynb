{
 "cells": [
  {
   "cell_type": "markdown",
   "metadata": {},
   "source": [
    "## Stargate Examples\n",
    "This notebook demonstrates how to use the Stargate Document APIs on Astra.\n"
   ]
  },
  {
   "cell_type": "markdown",
   "metadata": {},
   "source": [
    "### Basic Python Set-Up"
   ]
  },
  {
   "cell_type": "code",
   "execution_count": null,
   "metadata": {},
   "outputs": [],
   "source": [
    "from pprint import pprint    # for pretty formatting\n",
    "import requests              # for making REST API requests\n",
    "import json                  # for converting json payloads to strings\n",
    "import uuid                  # to create UUIDs for Astra connections\n",
    "import os                    # for accessing creds\n",
    "import warnings\n",
    "warnings.filterwarnings('ignore') # to keep this notebook clean"
   ]
  },
  {
   "cell_type": "code",
   "execution_count": null,
   "metadata": {},
   "outputs": [],
   "source": [
    "## Missing a package? No problem. You can import it directly in Jupyter\n",
    "## Uncomment the two lines below to Install a pip package in the current Jupyter kernel\n",
    "#import sys\n",
    "#!{sys.executable} -m pip install requests"
   ]
  },
  {
   "cell_type": "markdown",
   "metadata": {},
   "source": [
    "### A Helper API Client for Stargate"
   ]
  },
  {
   "cell_type": "code",
   "execution_count": null,
   "metadata": {},
   "outputs": [],
   "source": [
    "class Client:\n",
    "    \"\"\"\n",
    "    An API Client for connecting to Stargate\n",
    "    \"\"\"\n",
    "    def __init__(self, base_url, access_token, headers):\n",
    "        self.base_url = base_url\n",
    "        self.access_token = access_token\n",
    "        self.headers = headers    \n",
    "    \n",
    "    def post(self, payload={}, path=\"\"):\n",
    "        \"\"\"\n",
    "            Via the requests library, performs a post with the payload to the path\n",
    "        \"\"\"\n",
    "        return requests.post(self.base_url + path, \n",
    "                             data=json.dumps(payload),\n",
    "                             headers=self.headers)\n",
    "    \n",
    "    def put(self, payload={}, path=\"\"):\n",
    "        \"\"\"\n",
    "            Via the requests library, performs a put with the payload to the path\n",
    "        \"\"\"\n",
    "        return requests.put(self.base_url + path, \n",
    "                            data=json.dumps(payload),\n",
    "                            headers=self.headers)\n",
    "    \n",
    "    def patch(self, payload={}, path=\"\"):\n",
    "        \"\"\"\n",
    "            Via the requests library, performs a patch with the payload to the path\n",
    "        \"\"\"\n",
    "        return requests.patch(self.base_url + path, \n",
    "                              data=json.dumps(payload),\n",
    "                              headers=self.headers)\n",
    "    \n",
    "    def get(self, payload={}, path=\"\"):\n",
    "        \"\"\"\n",
    "            Via the requests library, performs a get with the payload to the path\n",
    "        \"\"\"\n",
    "        return requests.get(self.base_url + path, \n",
    "                            data=json.dumps(payload),\n",
    "                            headers=self.headers)\n",
    "    \n",
    "    def delete(self, payload={}, path=\"\"):\n",
    "        \"\"\"\n",
    "            Via the requests library, performs a delete with the payload to the path\n",
    "        \"\"\"\n",
    "        return requests.delete(self.base_url + path, \n",
    "                             data=json.dumps(payload),\n",
    "                             headers=self.headers)"
   ]
  },
  {
   "cell_type": "markdown",
   "metadata": {},
   "source": [
    "#### Authentication has its own method because it still uses the v1 API"
   ]
  },
  {
   "cell_type": "code",
   "execution_count": null,
   "metadata": {},
   "outputs": [],
   "source": [
    "def authenticate(path=\"/api/rest/v1/auth\"):\n",
    "    \"\"\"\n",
    "        This convenience function uses the v1 auth REST API to get an access token\n",
    "        returns: an auth token; 30 minute expiration\n",
    "    \"\"\"\n",
    "    url = BASE_URL + path # we still have to auth with the v1 API\n",
    "    payload = {\"username\": USER,\n",
    "               \"password\": PASSWORD}\n",
    "    headers = {'accept': '*/*',\n",
    "               'content-type': 'application/json',\n",
    "               'x-cassandra-request-id': UUID}\n",
    "    # make auth request to Astra\n",
    "    r = requests.post(url, \n",
    "                      data=json.dumps(payload), \n",
    "                      headers=headers)\n",
    "    # raise any authentication errror\n",
    "    if r.status_code != 200:\n",
    "        raise Exception(r.text)   \n",
    "    # extract and return the auth token \n",
    "    data = json.loads(r.text)\n",
    "    return data[\"authToken\"]"
   ]
  },
  {
   "cell_type": "markdown",
   "metadata": {},
   "source": [
    "### Connect to your Stargate Cluster in Astra"
   ]
  },
  {
   "cell_type": "code",
   "execution_count": null,
   "metadata": {},
   "outputs": [],
   "source": [
    "# Astra globals\n",
    "UUID = str(uuid.uuid1())\n",
    "USER = os.environ[\"ASTRA_DB_USERNAME\"]     # NEVER store your creds directly in your code!\n",
    "PASSWORD = os.environ[\"ASTRA_DB_PASSWORD\"] # NEVER store your creds directly in your code!\n",
    "DB_ID = os.environ[\"ASTRA_DB_ID\"]          # NEVER store your creds directly in your code!\n",
    "REGION = os.environ[\"ASTRA_DB_REGION\"]     # NEVER store your creds directly in your code!\n",
    "REGION = \"us-east1\"\n",
    "BASE_URL = f\"https://{DB_ID}-{REGION}.apps.astra.datastax.com\""
   ]
  },
  {
   "cell_type": "code",
   "execution_count": null,
   "metadata": {},
   "outputs": [],
   "source": [
    "TOKEN = authenticate()\n",
    "HEADERS = {'content-type': 'application/json',\n",
    "           'x-cassandra-token': TOKEN}\n",
    "stargate_client = Client(BASE_URL, TOKEN, HEADERS)"
   ]
  },
  {
   "cell_type": "markdown",
   "metadata": {},
   "source": [
    "## Create a table and post your document\n",
    "#### --> The keyspace was set up during db creation."
   ]
  },
  {
   "cell_type": "code",
   "execution_count": null,
   "metadata": {},
   "outputs": [],
   "source": [
    "NAMESPACE = \"battlestax\"\n",
    "COLLECTION = \"games\"\n",
    "GAME_ID = str(uuid.uuid1())\n",
    "DOC_ROOT_PATH = f\"/api/rest/v2/namespaces/{NAMESPACE}/collections/{COLLECTION}/{GAME_ID}\""
   ]
  },
  {
   "cell_type": "code",
   "execution_count": null,
   "metadata": {},
   "outputs": [],
   "source": [
    "game_doc = {\n",
    "      \"gameCode\": \"DANG\",\n",
    "      \"currentState\": {\n",
    "        \"name\": \"ADD_PLAYERS\",\n",
    "        \"roundId\": \"\",\n",
    "      },\n",
    "      \"audienceSize\": 0,\n",
    "      \"rounds\": {\n",
    "        1: {\n",
    "          \"type\": \"QUESTION\",\n",
    "          \"title\": \"Round 1\",\n",
    "          \"scoreMultiplier\": 1,\n",
    "        },\n",
    "        2: {\n",
    "          \"type\": \"QUESTION\",\n",
    "          \"title\": \"Round 1\",\n",
    "          \"scoreMultiplier\": 2,\n",
    "        },\n",
    "        3: {\n",
    "          \"type\": \"COMIC\",\n",
    "          \"title\": \"Final Round\",\n",
    "          \"scoreMultiplier\": 3,\n",
    "        },\n",
    "      },\n",
    "      \"questions\": {\n",
    "        str(uuid.uuid1()): {\n",
    "          \"roundId\": 1,\n",
    "          \"content\": \"What time is it?\",\n",
    "        },\n",
    "        str(uuid.uuid1()): {\n",
    "          \"roundId\": 2,\n",
    "          \"content\": \"What day is it?\",\n",
    "        },\n",
    "        str(uuid.uuid1()): {\n",
    "          \"roundId\": 3,\n",
    "          \"content\": \"https://xkcd.com/386/\",\n",
    "        },\n",
    "      },\n",
    "      \"players\": {}, \n",
    "      \"answers\": {}, \n",
    "      \"votes\": {}, \n",
    "      \"audienceVotes\": False\n",
    "}"
   ]
  },
  {
   "cell_type": "code",
   "execution_count": null,
   "metadata": {},
   "outputs": [],
   "source": [
    "response = stargate_client.put(game_doc, DOC_ROOT_PATH)\n",
    "pprint(response.text)"
   ]
  },
  {
   "cell_type": "markdown",
   "metadata": {},
   "source": [
    "### Get the full game"
   ]
  },
  {
   "cell_type": "code",
   "execution_count": null,
   "metadata": {},
   "outputs": [],
   "source": [
    "response = stargate_client.get({}, DOC_ROOT_PATH)\n",
    "pprint(response.json())"
   ]
  },
  {
   "cell_type": "markdown",
   "metadata": {},
   "source": [
    "### Add Players to the Game"
   ]
  },
  {
   "cell_type": "code",
   "execution_count": null,
   "metadata": {},
   "outputs": [],
   "source": [
    "players = {\n",
    "      str(uuid.uuid1()): {\n",
    "        \"name\": \"CRW\",\n",
    "        \"vip\": True,\n",
    "        \"score\": 0,\n",
    "      },\n",
    "      str(uuid.uuid1()): {\n",
    "        \"name\": \"DKG\",\n",
    "        \"score\": 0,\n",
    "      },\n",
    "      str(uuid.uuid1()): {\n",
    "        \"name\": \"JRG\",\n",
    "        \"score\": 0,\n",
    "      },\n",
    "      str(uuid.uuid1()): {\n",
    "        \"name\": \"DOG\",\n",
    "        \"score\": 0,\n",
    "      },\n",
    "    }"
   ]
  },
  {
   "cell_type": "code",
   "execution_count": null,
   "metadata": {},
   "outputs": [],
   "source": [
    "response = stargate_client.put(players, DOC_ROOT_PATH + \"/players\")\n",
    "pprint(response.json())"
   ]
  },
  {
   "cell_type": "markdown",
   "metadata": {},
   "source": [
    "### Get the full game"
   ]
  },
  {
   "cell_type": "code",
   "execution_count": null,
   "metadata": {},
   "outputs": [],
   "source": [
    "response = stargate_client.get({}, DOC_ROOT_PATH)\n",
    "pprint(response.json())"
   ]
  },
  {
   "cell_type": "markdown",
   "metadata": {},
   "source": [
    "#### Get just the players"
   ]
  },
  {
   "cell_type": "code",
   "execution_count": null,
   "metadata": {},
   "outputs": [],
   "source": [
    "response = stargate_client.get({}, DOC_ROOT_PATH + \"/players\")\n",
    "pprint(response.json())"
   ]
  },
  {
   "cell_type": "markdown",
   "metadata": {},
   "source": [
    "### Change the game state to Tutorial"
   ]
  },
  {
   "cell_type": "code",
   "execution_count": null,
   "metadata": {},
   "outputs": [],
   "source": [
    "response = stargate_client.put({\"name\": \"TUTORIAL\",\n",
    "                                \"roundId\": \"\"}, \n",
    "                               DOC_ROOT_PATH + \"/currentState\")\n",
    "pprint(response.json())"
   ]
  },
  {
   "cell_type": "markdown",
   "metadata": {},
   "source": [
    "#### Get the current game state"
   ]
  },
  {
   "cell_type": "code",
   "execution_count": null,
   "metadata": {},
   "outputs": [],
   "source": [
    "response = stargate_client.get({}, DOC_ROOT_PATH + \"/currentState\")\n",
    "pprint(response.json())"
   ]
  },
  {
   "cell_type": "markdown",
   "metadata": {},
   "source": [
    "### Move the game to round 1 input"
   ]
  },
  {
   "cell_type": "code",
   "execution_count": null,
   "metadata": {},
   "outputs": [],
   "source": [
    "response = stargate_client.patch({\"currentState\": {\"name\": \"ROUND_INPUT\",\n",
    "                                                    \"roundId\": 1}},\n",
    "                                 DOC_ROOT_PATH)\n",
    "pprint(response.json())"
   ]
  },
  {
   "cell_type": "markdown",
   "metadata": {},
   "source": [
    "#### Get the current game state"
   ]
  },
  {
   "cell_type": "code",
   "execution_count": null,
   "metadata": {},
   "outputs": [],
   "source": [
    "response = stargate_client.get({}, DOC_ROOT_PATH + \"/currentState\")\n",
    "pprint(response.json())"
   ]
  },
  {
   "cell_type": "code",
   "execution_count": null,
   "metadata": {},
   "outputs": [],
   "source": []
  }
 ],
 "metadata": {
  "kernelspec": {
   "display_name": "Python 3",
   "language": "python",
   "name": "python3"
  },
  "language_info": {
   "codemirror_mode": {
    "name": "ipython",
    "version": 3
   },
   "file_extension": ".py",
   "mimetype": "text/x-python",
   "name": "python",
   "nbconvert_exporter": "python",
   "pygments_lexer": "ipython3",
   "version": "3.8.3"
  }
 },
 "nbformat": 4,
 "nbformat_minor": 4
}
